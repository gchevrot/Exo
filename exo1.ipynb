{
 "cells": [
  {
   "cell_type": "markdown",
   "metadata": {},
   "source": [
    "# Problème 1"
   ]
  },
  {
   "cell_type": "markdown",
   "metadata": {},
   "source": [
    "## Énoncé:"
   ]
  },
  {
   "cell_type": "markdown",
   "metadata": {},
   "source": [
    "Si on liste les entiers naturels en dessous de 10 multiples de 3 ou 5, on obtient: 3,5,6,9\n",
    "\n",
    "La somme de ces multiples est 23.\n",
    "\n",
    "Écrire en pseudo-code un algorithme qui trouve la somme des multiples de 3 et de 5 en dessous de 1000."
   ]
  },
  {
   "cell_type": "markdown",
   "metadata": {},
   "source": [
    "## Solution:"
   ]
  },
  {
   "cell_type": "markdown",
   "metadata": {},
   "source": [
    "#### Pseudo-code:"
   ]
  },
  {
   "cell_type": "markdown",
   "metadata": {},
   "source": [
    "somme = 0\n",
    "\n",
    "Pour nb entre 1 et 999:\n",
    "\n",
    "    si nb est multiple de 3 ou de 5:\n",
    "    \n",
    "        somme = somme + nb\n",
    "        \n",
    "Retourner somme\n",
    "    "
   ]
  },
  {
   "cell_type": "markdown",
   "metadata": {},
   "source": [
    "#### Python:"
   ]
  },
  {
   "cell_type": "code",
   "execution_count": 1,
   "metadata": {
    "collapsed": false
   },
   "outputs": [
    {
     "name": "stdout",
     "output_type": "stream",
     "text": [
      "Python version: 3.5.1 |Anaconda custom (x86_64)| (default, Dec  7 2015, 11:24:55) \n",
      "[GCC 4.2.1 (Apple Inc. build 5577)]\n"
     ]
    }
   ],
   "source": [
    "import sys\n",
    "print(\"Python version: {}\".format(sys.version))"
   ]
  },
  {
   "cell_type": "markdown",
   "metadata": {},
   "source": [
    "Implémentation \"directe\":"
   ]
  },
  {
   "cell_type": "code",
   "execution_count": 2,
   "metadata": {
    "collapsed": false
   },
   "outputs": [
    {
     "name": "stdout",
     "output_type": "stream",
     "text": [
      "La somme des multiples de 3 et de 5 en dessous de 1000 est: 233168\n"
     ]
    }
   ],
   "source": [
    "def implementation_1(limit_sup=1000):\n",
    "    somme = 0\n",
    "    for n in range(1, limit_sup):\n",
    "        if n%3 == 0 or n%5 ==0:\n",
    "            somme += n\n",
    "    print(\"La somme des multiples de 3 et de 5 en dessous de 1000 est: {}\".format(somme))\n",
    "implementation_1()"
   ]
  },
  {
   "cell_type": "markdown",
   "metadata": {},
   "source": [
    "Implémentation avec les listes de compréhension:"
   ]
  },
  {
   "cell_type": "code",
   "execution_count": 3,
   "metadata": {
    "collapsed": false
   },
   "outputs": [
    {
     "name": "stdout",
     "output_type": "stream",
     "text": [
      "La somme des multiples de 3 et de 5 en dessous de 1000 est: 233168\n"
     ]
    }
   ],
   "source": [
    "def implementation_2(limit_sup=1000):\n",
    "    somme = sum(n for n in range(1, limit_sup) if n%3 == 0 or n%5 == 0)\n",
    "    print(\"La somme des multiples de 3 et de 5 en dessous de 1000 est: {}\".format(somme))\n",
    "implementation_2()"
   ]
  }
 ],
 "metadata": {
  "kernelspec": {
   "display_name": "Python 3",
   "language": "python",
   "name": "python3"
  },
  "language_info": {
   "codemirror_mode": {
    "name": "ipython",
    "version": 3
   },
   "file_extension": ".py",
   "mimetype": "text/x-python",
   "name": "python",
   "nbconvert_exporter": "python",
   "pygments_lexer": "ipython3",
   "version": "3.5.1"
  }
 },
 "nbformat": 4,
 "nbformat_minor": 0
}
