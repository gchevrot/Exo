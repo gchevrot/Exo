{
 "cells": [
  {
   "cell_type": "markdown",
   "metadata": {},
   "source": [
    "# Générateur d'exercices"
   ]
  },
  {
   "cell_type": "markdown",
   "metadata": {},
   "source": [
    "## 1. Objectif\n",
    "\n",
    "Le but de l’exercice est de faire un petit programme de questions de maths sur les discriminants."
   ]
  },
  {
   "cell_type": "markdown",
   "metadata": {},
   "source": [
    "## 2. Détail"
   ]
  },
  {
   "cell_type": "markdown",
   "metadata": {},
   "source": [
    "Voici quelques exercices proposés par des professeurs de mathématiques:\n",
    "    \n",
    "- Trouver le discriminant de \n",
    "$x^2 + 5x + 4$  (Discriminant carré)\n",
    "    \n",
    "- Trouver le discriminant de\n",
    "$x^2 + 5x + 5$  (Discriminant non carré mais petit)\n",
    "\n",
    "- Trouver le discriminant de\n",
    "$x^2 + 8x + 4$  (Discriminant non carré et grand)\n",
    "\n",
    "- Trouver le discriminant de\n",
    "$x^2 + 2x + 8$  (Discriminant négatif)\n",
    "\n",
    "Le but est de faire un programme qui propose des énoncés aléatoires de la même difficulté que les exemples. Il faut écrire une fonction par type d’exercice, qui écrit (dans la console par exemple) la question posée ainsi que la solution attendue. Ceci afin que les enseignants puissent le proposer à leurs élèves."
   ]
  },
  {
   "cell_type": "markdown",
   "metadata": {},
   "source": [
    "## 3. Solution"
   ]
  },
  {
   "cell_type": "code",
   "execution_count": 1,
   "metadata": {
    "collapsed": false
   },
   "outputs": [
    {
     "name": "stdout",
     "output_type": "stream",
     "text": [
      "Python version: 3.5.1 |Anaconda custom (x86_64)| (default, Dec  7 2015, 11:24:55) \n",
      "[GCC 4.2.1 (Apple Inc. build 5577)]\n"
     ]
    }
   ],
   "source": [
    "import sys\n",
    "import math\n",
    "import random\n",
    "print(\"Python version: {}\".format(sys.version))"
   ]
  },
  {
   "cell_type": "markdown",
   "metadata": {},
   "source": [
    "### Trouver les jeux de coefficients b et c en fonction du type de discriminant"
   ]
  },
  {
   "cell_type": "markdown",
   "metadata": {},
   "source": [
    "Les coefficients b et c (a est toujours égal à 1) vont être différents en fonction du type de discriminant.\n",
    "Je vais donc dans un premier temps déterminer les jeux de coefficients b et c correspondant au discriminant désiré."
   ]
  },
  {
   "cell_type": "code",
   "execution_count": 2,
   "metadata": {
    "collapsed": true
   },
   "outputs": [],
   "source": [
    "def discriminant(b=0, c=0, a=1):\n",
    "    \"\"\"Return the discriminant\"\"\"\n",
    "    return b*b - 4*a*c"
   ]
  },
  {
   "cell_type": "code",
   "execution_count": 3,
   "metadata": {
    "collapsed": true
   },
   "outputs": [],
   "source": [
    "def is_square(number=0):\n",
    "    \"\"\"Return True if number is a square number\"\"\"\n",
    "    return math.sqrt(number) % 1 == 0 "
   ]
  },
  {
   "cell_type": "code",
   "execution_count": 16,
   "metadata": {
    "collapsed": true
   },
   "outputs": [],
   "source": [
    "def coefficients(min_delta=1, max_delta=21, min_coef=-10, max_coef=11, square=False):\n",
    "    \"\"\"possible values of b and c for: \n",
    "    min_delta <= delta < max_delta\n",
    "    min_coef <= coef < max_coef\n",
    "    \n",
    "    Parameters\n",
    "    ----------\n",
    "    min_delta, max_delta, min_coef, max_coef: int\n",
    "    square: bool\n",
    "        if True, discriminant is square\n",
    "        if False (default), discriminant is not square \n",
    "    \n",
    "    Return\n",
    "    ------\n",
    "    coefficients: list of tuples\n",
    "        (tuples format: (b coefficient, [associated c coefficients]) )\n",
    "    \"\"\"\n",
    "    coefficients = []\n",
    "    for b in range(min_coef, max_coef):\n",
    "        c_values = []\n",
    "        for c in range(min_coef, max_coef):\n",
    "            delta = discriminant(b,c)\n",
    "            if delta>min_delta and delta<max_delta:\n",
    "                if square:\n",
    "                    if is_square(delta):\n",
    "                        c_values.append(c)\n",
    "                else:\n",
    "                    if delta < 0:\n",
    "                        c_values.append(c)\n",
    "                        continue\n",
    "                    if not is_square(delta):\n",
    "                        c_values.append(c)\n",
    "        if c_values:\n",
    "            coefficients.append((b, c_values))\n",
    "    return coefficients\n",
    "# Improvement: use dictionnary for coefficients"
   ]
  },
  {
   "cell_type": "markdown",
   "metadata": {},
   "source": [
    "On définit les discriminants non carré et petit comme $0 < \\Delta < 20$ avec des coefficients b et c dans le domaine [-10, 10] pour que le niveau de difficulté reste similaire."
   ]
  },
  {
   "cell_type": "code",
   "execution_count": 5,
   "metadata": {
    "collapsed": false
   },
   "outputs": [],
   "source": [
    "coef_small_delta = coefficients()\n",
    "#coef_small_delta"
   ]
  },
  {
   "cell_type": "markdown",
   "metadata": {},
   "source": [
    "On définit les discriminants carré comme $0 < \\Delta < 50$ avec des coefficients b et c dans le domaine [-10, 10] pour que le niveau de difficulté reste similaire."
   ]
  },
  {
   "cell_type": "code",
   "execution_count": 6,
   "metadata": {
    "collapsed": false
   },
   "outputs": [],
   "source": [
    "coef_square = coefficients(max_delta=51, square=True)\n",
    "#coef_square"
   ]
  },
  {
   "cell_type": "markdown",
   "metadata": {},
   "source": [
    "On définit les discriminants négatifs comme $-50 < \\Delta < 0$ avec des coefficients b et c dans le domaine [-10, 10] pour que le niveau de difficulté reste similaire."
   ]
  },
  {
   "cell_type": "code",
   "execution_count": 7,
   "metadata": {
    "collapsed": false
   },
   "outputs": [],
   "source": [
    "coef_neg_delta = coefficients(min_delta=-50, max_delta=0)\n",
    "#coef_neg_delta"
   ]
  },
  {
   "cell_type": "markdown",
   "metadata": {},
   "source": [
    "On définit les discriminants non carré et grand comme $20 < \\Delta < 50$ avec des coefficients b et c dans le domaine [-10, 10] pour que le niveau de difficulté reste similaire."
   ]
  },
  {
   "cell_type": "code",
   "execution_count": 8,
   "metadata": {
    "collapsed": false
   },
   "outputs": [],
   "source": [
    "coef_big_delta = coefficients(min_delta=20, max_delta=51)\n",
    "#coef_big_delta"
   ]
  },
  {
   "cell_type": "markdown",
   "metadata": {
    "collapsed": true
   },
   "source": [
    "### Énoncé aléatoire et sa solution"
   ]
  },
  {
   "cell_type": "code",
   "execution_count": 9,
   "metadata": {
    "collapsed": true
   },
   "outputs": [],
   "source": [
    "def quadratic_equation(coefficients):\n",
    "    \"\"\"\n",
    "    Return the coefficients (b, c) and discriminant of a quadratic equation.\n",
    "        \n",
    "    Parameters\n",
    "    ----------\n",
    "    coefficients: list\n",
    "        list of coef in the fomat [[b, (c1, c2, ...)], ...] - it correspond to a specific type of discriminant\n",
    "        \n",
    "    Return\n",
    "    ------\n",
    "    b, c, delta: int\n",
    "    \"\"\"\n",
    "    # extract a tuple randomly\n",
    "    coefs = random.choice(coefficients)\n",
    "    b = coefs[0]\n",
    "    c = random.choice(coefs[1])\n",
    "    delta = discriminant(b,c)\n",
    "    return b, c, delta"
   ]
  },
  {
   "cell_type": "markdown",
   "metadata": {},
   "source": [
    "##### Discriminant carré"
   ]
  },
  {
   "cell_type": "code",
   "execution_count": 11,
   "metadata": {
    "collapsed": false
   },
   "outputs": [
    {
     "name": "stdout",
     "output_type": "stream",
     "text": [
      "x**2 -2x -8\n",
      "delta = 36\n",
      "\n",
      "x**2 -3x -4\n",
      "delta = 25\n",
      "\n",
      "x**2 -5x + 0\n",
      "delta = 25\n",
      "\n",
      "x**2 + 9x + 8\n",
      "delta = 49\n",
      "\n",
      "x**2 -5x + 4\n",
      "delta = 9\n",
      "\n"
     ]
    }
   ],
   "source": [
    "for i in range(5):\n",
    "    b, c, delta = quadratic_equation(coef_square)\n",
    "    if b>=0 and c>=0:\n",
    "        print(\"x**2 + {b}x + {c}\".format(b = b, c = c))\n",
    "    if b<0 and c>=0:\n",
    "        print(\"x**2 {b}x + {c}\".format(b = b, c = c))\n",
    "    if b>=0 and c<0:\n",
    "        print(\"x**2 + {b}x {c}\".format(b = b, c = c))\n",
    "    if b<0 and c<0:\n",
    "        print(\"x**2 {b}x {c}\".format(b = b, c = c))\n",
    "    print(\"delta = {delta}\\n\".format(delta = delta))"
   ]
  },
  {
   "cell_type": "markdown",
   "metadata": {},
   "source": [
    "##### Discriminant non carré et petit"
   ]
  },
  {
   "cell_type": "code",
   "execution_count": 15,
   "metadata": {
    "collapsed": false
   },
   "outputs": [
    {
     "name": "stdout",
     "output_type": "stream",
     "text": [
      "x**2 + 5x + 5\n",
      "delta = 5\n",
      "\n",
      "x**2 -1x -4\n",
      "delta = 17\n",
      "\n",
      "x**2 + 6x + 4\n",
      "delta = 20\n",
      "\n",
      "x**2 + 7x + 9\n",
      "delta = 13\n",
      "\n",
      "x**2 + 0x -2\n",
      "delta = 8\n",
      "\n"
     ]
    }
   ],
   "source": [
    "for i in range(5):\n",
    "    b, c, delta = quadratic_equation(coef_small_delta)\n",
    "    if b>=0 and c>=0:\n",
    "        print(\"x**2 + {b}x + {c}\".format(b = b, c = c))\n",
    "    if b<0 and c>=0:\n",
    "        print(\"x**2 {b}x + {c}\".format(b = b, c = c))\n",
    "    if b>=0 and c<0:\n",
    "        print(\"x**2 + {b}x {c}\".format(b = b, c = c))\n",
    "    if b<0 and c<0:\n",
    "        print(\"x**2 {b}x {c}\".format(b = b, c = c))\n",
    "    print(\"delta = {delta}\\n\".format(delta = delta))"
   ]
  },
  {
   "cell_type": "markdown",
   "metadata": {},
   "source": [
    "##### Discriminant non carré et grand"
   ]
  },
  {
   "cell_type": "code",
   "execution_count": 13,
   "metadata": {
    "collapsed": false
   },
   "outputs": [
    {
     "name": "stdout",
     "output_type": "stream",
     "text": [
      "x**2 -7x + 5\n",
      "delta = 29\n",
      "\n",
      "x**2 + 7x + 1\n",
      "delta = 45\n",
      "\n",
      "x**2 + 3x -3\n",
      "delta = 21\n",
      "\n",
      "x**2 + 8x + 4\n",
      "delta = 48\n",
      "\n",
      "x**2 + 8x + 10\n",
      "delta = 24\n",
      "\n"
     ]
    }
   ],
   "source": [
    "for i in range(5):\n",
    "    b, c, delta = quadratic_equation(coef_big_delta)\n",
    "    if b>=0 and c>=0:\n",
    "        print(\"x**2 + {b}x + {c}\".format(b = b, c = c))\n",
    "    if b<0 and c>=0:\n",
    "        print(\"x**2 {b}x + {c}\".format(b = b, c = c))\n",
    "    if b>=0 and c<0:\n",
    "        print(\"x**2 + {b}x {c}\".format(b = b, c = c))\n",
    "    if b<0 and c<0:\n",
    "        print(\"x**2 {b}x {c}\".format(b = b, c = c))\n",
    "    print(\"delta = {delta}\\n\".format(delta = delta))"
   ]
  },
  {
   "cell_type": "markdown",
   "metadata": {},
   "source": [
    "##### Discriminant négatif"
   ]
  },
  {
   "cell_type": "code",
   "execution_count": 14,
   "metadata": {
    "collapsed": false
   },
   "outputs": [
    {
     "name": "stdout",
     "output_type": "stream",
     "text": [
      "x**2 + 5x + 7\n",
      "delta = -3\n",
      "\n",
      "x**2 -1x + 5\n",
      "delta = -19\n",
      "\n",
      "x**2 + 3x + 6\n",
      "delta = -15\n",
      "\n",
      "x**2 -3x + 5\n",
      "delta = -11\n",
      "\n",
      "x**2 -6x + 10\n",
      "delta = -4\n",
      "\n"
     ]
    }
   ],
   "source": [
    "for i in range(5):\n",
    "    b, c, delta = quadratic_equation(coef_neg_delta)\n",
    "    if b>=0 and c>=0:\n",
    "        print(\"x**2 + {b}x + {c}\".format(b = b, c = c))\n",
    "    if b<0 and c>=0:\n",
    "        print(\"x**2 {b}x + {c}\".format(b = b, c = c))\n",
    "    if b>=0 and c<0:\n",
    "        print(\"x**2 + {b}x {c}\".format(b = b, c = c))\n",
    "    if b<0 and c<0:\n",
    "        print(\"x**2 {b}x {c}\".format(b = b, c = c))\n",
    "    print(\"delta = {delta}\\n\".format(delta = delta))"
   ]
  }
 ],
 "metadata": {
  "kernelspec": {
   "display_name": "Python 3",
   "language": "python",
   "name": "python3"
  },
  "language_info": {
   "codemirror_mode": {
    "name": "ipython",
    "version": 3
   },
   "file_extension": ".py",
   "mimetype": "text/x-python",
   "name": "python",
   "nbconvert_exporter": "python",
   "pygments_lexer": "ipython3",
   "version": "3.5.1"
  }
 },
 "nbformat": 4,
 "nbformat_minor": 0
}
